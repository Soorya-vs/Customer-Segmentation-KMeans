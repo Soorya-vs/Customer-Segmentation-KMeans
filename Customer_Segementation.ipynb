{
  "nbformat": 4,
  "nbformat_minor": 0,
  "metadata": {
    "colab": {
      "provenance": []
    },
    "kernelspec": {
      "name": "python3",
      "display_name": "Python 3"
    },
    "language_info": {
      "name": "python"
    }
  },
  "cells": [
    {
      "cell_type": "markdown",
      "source": [
        "# **📘Customer Segmentation Using K-Means**\n",
        "\n",
        "---\n",
        "\n"
      ],
      "metadata": {
        "id": "CVq7eYUTrSyK"
      }
    },
    {
      "cell_type": "markdown",
      "source": [
        "## ***Importing the Dependencies***"
      ],
      "metadata": {
        "id": "4UcQQSkFrbN0"
      }
    },
    {
      "cell_type": "code",
      "source": [
        "import pandas as pd\n",
        "import matplotlib.pyplot as plt\n",
        "import seaborn as sns\n",
        "from sklearn.cluster import KMeans\n",
        "from sklearn.preprocessing import StandardScaler\n",
        "from sklearn.decomposition import PCA\n",
        "from mpl_toolkits.mplot3d import Axes3D"
      ],
      "metadata": {
        "id": "yibNUc5LrlnE"
      },
      "execution_count": null,
      "outputs": []
    },
    {
      "cell_type": "markdown",
      "source": [
        "## ***Uploading the Dataset***"
      ],
      "metadata": {
        "id": "_YexasITsYyh"
      }
    },
    {
      "cell_type": "code",
      "source": [
        "from google.colab import files\n",
        "uploaded = files.upload()\n"
      ],
      "metadata": {
        "id": "IBtkXCFAsZMO"
      },
      "execution_count": null,
      "outputs": []
    },
    {
      "cell_type": "markdown",
      "source": [
        "## ***Data Collection & Analysis***"
      ],
      "metadata": {
        "id": "q1FqjUZUswzz"
      }
    },
    {
      "cell_type": "code",
      "source": [
        "import pandas as pd\n",
        "\n",
        "df = pd.read_csv(\"Shopping mall.csv\")\n",
        "df.head()\n"
      ],
      "metadata": {
        "id": "UBeJjkUZsxZp"
      },
      "execution_count": null,
      "outputs": []
    },
    {
      "cell_type": "code",
      "source": [
        "print(\"Null values in each column:\\n\")\n",
        "print(df.isnull().sum())\n"
      ],
      "metadata": {
        "id": "D7FjY7ATI0d1"
      },
      "execution_count": null,
      "outputs": []
    },
    {
      "cell_type": "markdown",
      "source": [
        "## ***Selecting Features for Clustering***\n"
      ],
      "metadata": {
        "id": "JH23YKr5tzNb"
      }
    },
    {
      "cell_type": "code",
      "source": [
        "X = df[['Age', 'Income', 'Spending', 'Frequency']]\n"
      ],
      "metadata": {
        "id": "nkw2ql6Dt8je"
      },
      "execution_count": null,
      "outputs": []
    },
    {
      "cell_type": "markdown",
      "source": [
        "## ***Scaling Features***"
      ],
      "metadata": {
        "id": "3XYRYp9auDWv"
      }
    },
    {
      "cell_type": "code",
      "source": [
        "from sklearn.preprocessing import StandardScaler\n",
        "\n",
        "scaler = StandardScaler()\n",
        "X_scaled = scaler.fit_transform(X)\n"
      ],
      "metadata": {
        "id": "wdDRutjluFPQ"
      },
      "execution_count": null,
      "outputs": []
    },
    {
      "cell_type": "markdown",
      "source": [
        "## **Choosing the number of Clusters**"
      ],
      "metadata": {
        "id": "WNlvo4J-Jajo"
      }
    },
    {
      "cell_type": "markdown",
      "source": [
        "***WCSS -> Within Clusters Sum of Squares***"
      ],
      "metadata": {
        "id": "eOa3S3g_JtPx"
      }
    },
    {
      "cell_type": "code",
      "source": [
        "from sklearn.cluster import KMeans\n",
        "import matplotlib.pyplot as plt\n",
        "import seaborn as sns\n",
        "\n",
        "# Apply seaborn darkgrid style (like screenshot)\n",
        "sns.set_style('darkgrid')\n",
        "plt.figure(figsize=(8, 6))\n",
        "\n",
        "# Compute wcss values\n",
        "wcss = []\n",
        "for k in range(1, 11):\n",
        "    kmeans = KMeans(n_clusters=k, random_state=42)\n",
        "    kmeans.fit(X_scaled)\n",
        "    wcss.append(kmeans.inertia_)\n",
        "\n",
        "# Plot with markers and line\n",
        "plt.plot(range(1, 11), wcss, linestyle='-', color='steelblue', linewidth=2, markersize=6)\n",
        "\n",
        "# Labels and title\n",
        "sns.set()\n",
        "plt.plot(range(1,11), wcss)\n",
        "plt.title('The Elbow Point Graph')\n",
        "plt.xlabel('Number of Clusters')\n",
        "plt.ylabel('WCSS')\n",
        "plt.show()\n"
      ],
      "metadata": {
        "id": "3xFwKdFnuJ-t"
      },
      "execution_count": null,
      "outputs": []
    },
    {
      "cell_type": "markdown",
      "source": [
        "*Optimum Number of Clusters = 4*"
      ],
      "metadata": {
        "id": "DuhsUC1pLDef"
      }
    },
    {
      "cell_type": "markdown",
      "source": [
        "# ***Training the K-Means Clustering Model***"
      ],
      "metadata": {
        "id": "wgVDTpMOuj7q"
      }
    },
    {
      "cell_type": "code",
      "source": [
        "kmeans = KMeans(n_clusters=4, random_state=42)\n",
        "Y = kmeans.fit_predict(X_scaled)\n",
        "\n",
        "print(Y)"
      ],
      "metadata": {
        "id": "kVdQNQfdull4"
      },
      "execution_count": null,
      "outputs": []
    },
    {
      "cell_type": "markdown",
      "source": [
        "### *4 Clusters = 0,1,2,3*"
      ],
      "metadata": {
        "id": "WBaTTiw5L7MP"
      }
    },
    {
      "cell_type": "markdown",
      "source": [
        "# ***Visualizing all the clusters***\n"
      ],
      "metadata": {
        "id": "fwqORNDlusHl"
      }
    },
    {
      "cell_type": "markdown",
      "source": [
        "### *2D Scatter Plot Visualizations of Customer Groups*\n"
      ],
      "metadata": {
        "id": "Kw7x0HUP0Jop"
      }
    },
    {
      "cell_type": "code",
      "source": [
        "import itertools\n",
        "import matplotlib.pyplot as plt\n",
        "import seaborn as sns\n",
        "\n",
        "# Elegant light gray background with grid lines\n",
        "sns.set_style(\"darkgrid\")  # better contrast with pastel\n",
        "\n",
        "# Refined pastel-inspired palette\n",
        "custom_palette = ['#8ecae6', '#ffb703', '#a8dadc', '#bdb2ff']\n",
        "\n",
        "# Inverse transform centroids if scaled\n",
        "centroids = scaler.inverse_transform(kmeans.cluster_centers_)\n",
        "\n",
        "# Feature combinations\n",
        "features = ['Age', 'Income', 'Spending', 'Frequency']\n",
        "combinations = list(itertools.combinations(features, 2))\n",
        "\n",
        "# Loop through each feature pair\n",
        "for x_feat, y_feat in combinations:\n",
        "    plt.figure(figsize=(8, 6))\n",
        "\n",
        "    # Scatter plot of clusters\n",
        "    sns.scatterplot(\n",
        "        data=df,\n",
        "        x=x_feat,\n",
        "        y=y_feat,\n",
        "        hue='Cluster',\n",
        "        palette=custom_palette,\n",
        "        s=50,              # Smaller dot size\n",
        "        linewidth=0        # No borders\n",
        "    )\n",
        "\n",
        "    # Centroids\n",
        "    x_idx = features.index(x_feat)\n",
        "    y_idx = features.index(y_feat)\n",
        "    plt.scatter(\n",
        "        centroids[:, x_idx],\n",
        "        centroids[:, y_idx],\n",
        "        c='black',\n",
        "        s=220,\n",
        "        marker='X',\n",
        "        label='Centroid'\n",
        "    )\n",
        "\n",
        "    # Formatting\n",
        "    plt.title(f'Customer Segments: {x_feat} vs {y_feat}', fontsize=15, weight='bold')\n",
        "    plt.xlabel(x_feat, fontsize=12)\n",
        "    plt.ylabel(y_feat, fontsize=12)\n",
        "    plt.grid(True, linestyle='--', linewidth=0.5, alpha=0.5)\n",
        "    plt.gca().set_facecolor('#f4f4f4')  # Light gray plot background\n",
        "    plt.legend(title='Cluster')\n",
        "    plt.tight_layout()\n",
        "    plt.show()\n"
      ],
      "metadata": {
        "id": "KwCrSnnm3a8B"
      },
      "execution_count": null,
      "outputs": []
    },
    {
      "cell_type": "markdown",
      "source": [
        "### *3D Scatter Plot Visualizations of Customer Groups*"
      ],
      "metadata": {
        "id": "Er9GTup065hx"
      }
    },
    {
      "cell_type": "code",
      "source": [
        "from mpl_toolkits.mplot3d import Axes3D\n",
        "import matplotlib.pyplot as plt\n",
        "from matplotlib.animation import FuncAnimation\n",
        "import numpy as np\n",
        "from IPython.display import HTML\n",
        "!pip install -q pillow\n",
        "\n",
        "\n",
        "# Prepare the figure\n",
        "fig = plt.figure(figsize=(10, 7))\n",
        "ax = fig.add_subplot(111, projection='3d')\n",
        "\n",
        "# ✅ Custom color palette matching your uploaded 3D plot\n",
        "colors = ['#8ecae6', '#ffb703', '#a8dadc', '#bdb2ff']\n",
        "\n",
        "\n",
        "# Plot clusters\n",
        "for i in range(4):\n",
        "    cluster = df[df['Cluster'] == i]\n",
        "    ax.scatter(\n",
        "        cluster['Income'],\n",
        "        cluster['Spending'],\n",
        "        cluster['Frequency'],\n",
        "        color=colors[i],\n",
        "        label=f'Cluster {i+1}',\n",
        "        s=70,\n",
        "        alpha=0.9,\n",
        "        edgecolor='white',\n",
        "        linewidth=0.7\n",
        "    )\n",
        "\n",
        "# Plot centroids\n",
        "centers = scaler.inverse_transform(kmeans.cluster_centers_)\n",
        "ax.scatter(\n",
        "    centers[:, 1],\n",
        "    centers[:, 2],\n",
        "    centers[:, 3],\n",
        "    s=250,\n",
        "    c='black',\n",
        "    marker='X',\n",
        "    edgecolors='white',\n",
        "    linewidth=1.5,\n",
        "    label='Centroids'\n",
        ")\n",
        "\n",
        "# Axis Labels\n",
        "ax.set_xlabel('Income', fontsize=12)\n",
        "ax.set_ylabel('Spending', fontsize=12)\n",
        "ax.set_zlabel('Frequency', fontsize=12)\n",
        "ax.set_title('Customer Groups', fontsize=16, weight='bold')\n",
        "ax.legend()\n",
        "\n",
        "# Animate: rotate around z-axis\n",
        "def rotate(angle):\n",
        "    ax.view_init(elev=20, azim=angle)\n",
        "\n",
        "ani = FuncAnimation(fig, rotate, frames=np.arange(0, 360, 3), interval=100)\n",
        "\n",
        "\n",
        "# Save to GIF\n",
        "ani.save(\"rotating_3d_clusters.gif\", writer='pillow', fps=10)\n",
        "\n",
        "\n",
        "import matplotlib as mpl\n",
        "mpl.rcParams['animation.embed_limit'] = 50  # MB limit increased from 20 to 50\n",
        "\n",
        "# Now render the animation\n",
        "HTML(ani.to_jshtml())\n",
        "\n",
        "\n",
        "\n",
        "\n"
      ],
      "metadata": {
        "id": "nt3t37g76524"
      },
      "execution_count": null,
      "outputs": []
    },
    {
      "cell_type": "code",
      "source": [
        "from google.colab import files\n",
        "files.download(\"rotating_3d_clusters.gif\")\n"
      ],
      "metadata": {
        "id": "yybY6aThEn_B"
      },
      "execution_count": null,
      "outputs": []
    },
    {
      "cell_type": "markdown",
      "source": [
        "## ***Cluster Validation Using Silhouette Score***"
      ],
      "metadata": {
        "id": "QFD5SjwxAhdO"
      }
    },
    {
      "cell_type": "code",
      "source": [
        "from sklearn.metrics import silhouette_score\n",
        "\n",
        "score = silhouette_score(X_scaled, df['Cluster'])\n",
        "print(f\"Silhouette Score: {score:.3f}\")"
      ],
      "metadata": {
        "id": "DJyZauB7ALjU"
      },
      "execution_count": null,
      "outputs": []
    },
    {
      "cell_type": "markdown",
      "source": [
        "## ***Cluster Characteristics Overview***"
      ],
      "metadata": {
        "id": "uyOyBL5q-yvp"
      }
    },
    {
      "cell_type": "code",
      "source": [
        "# Group data by cluster and calculate mean for each feature\n",
        "summary = df.groupby('Cluster')[['Age', 'Income', 'Frequency', 'Spending']].mean().round(1)\n",
        "summary\n"
      ],
      "metadata": {
        "id": "MTnQleni_Ikz"
      },
      "execution_count": null,
      "outputs": []
    },
    {
      "cell_type": "markdown",
      "source": [
        "## 🧩 Cluster Interpretation\n",
        "\n",
        "- **Cluster 0: Middle Income, Low Spenders**\n",
        "  - **Age:** ~41  \n",
        "  - **Income:** Moderate (~59k)  \n",
        "  - **Frequency:** Medium  \n",
        "  - **Spending:** Low  \n",
        "  - 🟢 **Insights:** Price-sensitive and average engagement. May respond to **bundled deals or discount campaigns**.\n",
        "\n",
        "- **Cluster 1: Engaged Loyal Customers**\n",
        "  - **Age:** ~55  \n",
        "  - **Income:** High (~110k)  \n",
        "  - **Frequency:** High  \n",
        "  - **Spending:** High  \n",
        "  - 🔵 **Insights:** Highly profitable and loyal. Ideal for **loyalty programs, early access, and exclusive offers**.\n",
        "\n",
        "- **Cluster 2: Elderly Passive Customers**\n",
        "  - **Age:** ~76  \n",
        "  - **Income:** High (~114k)  \n",
        "  - **Frequency:** Low  \n",
        "  - **Spending:** Low  \n",
        "  - 🟡 **Insights:** Affluent but not active. Potential for **re-engagement via targeted outreach**, possibly emphasizing value or convenience.\n",
        "\n",
        "- **Cluster 3: Young Premium Shoppers**\n",
        "  - **Age:** ~39  \n",
        "  - **Income:** Very High (~160k)  \n",
        "  - **Frequency:** Medium  \n",
        "  - **Spending:** Medium  \n",
        "  - 🟣 **Insights:** Tech-savvy, aspirational, and brand-conscious. Best suited for **luxury offerings, influencer-driven marketing**, and premium upselling.\n"
      ],
      "metadata": {
        "id": "M5WMFK_U_gb2"
      }
    },
    {
      "cell_type": "markdown",
      "source": [
        "## 💼 Strategic Recommendations\n",
        "\n",
        "1. 🎯 **Targeted Marketing**\n",
        "   - Personalize promotions based on cluster behavior.\n",
        "   - Use social media ads for Cluster 3 and email loyalty rewards for Cluster 1.\n",
        "\n",
        "2. 📈 **Reactivation Campaigns**\n",
        "   - Re-engage Cluster 2 through limited-time offers, senior-friendly UX, or value-based messaging.\n",
        "\n",
        "3. 💡 **Product Bundling**\n",
        "   - For Cluster 0, introduce low-cost bundles and seasonal discounts to increase spending.\n",
        "\n",
        "4. 🛍️ **VIP Experiences**\n",
        "   - For Cluster 1, consider premium loyalty tiers, early product access, or personal shopper services.\n",
        "\n"
      ],
      "metadata": {
        "id": "ud7ex8y-_wB8"
      }
    },
    {
      "cell_type": "code",
      "source": [
        "df.to_csv(\"Customer Segments.csv\", index=False)\n"
      ],
      "metadata": {
        "id": "hKeksIxuCsoE"
      },
      "execution_count": null,
      "outputs": []
    },
    {
      "cell_type": "code",
      "source": [
        "from google.colab import files\n",
        "files.download(\"Customer Segments.csv\")\n"
      ],
      "metadata": {
        "id": "JkHztSoNC4ul"
      },
      "execution_count": null,
      "outputs": []
    }
  ]
}